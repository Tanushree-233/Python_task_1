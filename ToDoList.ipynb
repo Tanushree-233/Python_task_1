{
  "nbformat": 4,
  "nbformat_minor": 0,
  "metadata": {
    "colab": {
      "provenance": [],
      "authorship_tag": "ABX9TyM1XoS1HSNACpSYIdbW24N9",
      "include_colab_link": true
    },
    "kernelspec": {
      "name": "python3",
      "display_name": "Python 3"
    },
    "language_info": {
      "name": "python"
    }
  },
  "cells": [
    {
      "cell_type": "markdown",
      "metadata": {
        "id": "view-in-github",
        "colab_type": "text"
      },
      "source": [
        "<a href=\"https://colab.research.google.com/github/Tanushree-233/Python_task_1/blob/main/ToDoList.ipynb\" target=\"_parent\"><img src=\"https://colab.research.google.com/assets/colab-badge.svg\" alt=\"Open In Colab\"/></a>"
      ]
    },
    {
      "cell_type": "code",
      "execution_count": 2,
      "metadata": {
        "colab": {
          "base_uri": "https://localhost:8080/"
        },
        "id": "OvOXP2RQWnQK",
        "outputId": "24fa9eaa-3e8e-4f94-996f-285cce9bad0e"
      },
      "outputs": [
        {
          "output_type": "stream",
          "name": "stdout",
          "text": [
            "\n",
            "📋 To-Do List Menu:\n",
            "1. View Tasks\n",
            "2. Add Task\n",
            "3. Mark Task as Completed\n",
            "4. Delete Task\n",
            "5. Exit\n"
          ]
        }
      ],
      "source": [
        "# Initialize task list\n",
        "tasks = []\n",
        "\n",
        "# Function to show menu\n",
        "def show_menu():\n",
        "    print(\"\\n📋 To-Do List Menu:\")\n",
        "    print(\"1. View Tasks\")\n",
        "    print(\"2. Add Task\")\n",
        "    print(\"3. Mark Task as Completed\")\n",
        "    print(\"4. Delete Task\")\n",
        "    print(\"5. Exit\")\n",
        "\n",
        "# Function to view tasks\n",
        "def view_tasks():\n",
        "    if not tasks:\n",
        "        print(\"📝 No tasks in your list.\")\n",
        "    else:\n",
        "        print(\"Your Tasks:\")\n",
        "        for i, t in enumerate(tasks, 1):\n",
        "            status = \"✅\" if t[\"done\"] else \"❌\"\n",
        "            print(f\"{i}. [{status}] {t['title']}\")\n",
        "\n",
        "# Function to add a task\n",
        "def add_task(title):\n",
        "    tasks.append({\"title\": title, \"done\": False})\n",
        "    print(f\"✅ Added: {title}\")\n",
        "\n",
        "# Function to mark as completed\n",
        "def mark_done(task_number):\n",
        "    index = task_number - 1\n",
        "    if 0 <= index < len(tasks):\n",
        "        tasks[index][\"done\"] = True\n",
        "        print(f\"✔️ Marked as done: {tasks[index]['title']}\")\n",
        "    else:\n",
        "        print(\"⚠️ Invalid task number.\")\n",
        "\n",
        "# Function to delete a task\n",
        "def delete_task(task_number):\n",
        "    index = task_number - 1\n",
        "    if 0 <= index < len(tasks):\n",
        "        removed = tasks.pop(index)\n",
        "        print(f\"🗑️ Deleted: {removed['title']}\")\n",
        "    else:\n",
        "        print(\"⚠️ Invalid task number.\")\n",
        "\n",
        "# Run one step at a time in Colab\n",
        "show_menu()"
      ]
    },
    {
      "cell_type": "code",
      "source": [
        "# ⬅️ Run this cell, change task title\n",
        "add_task(\"Buy groceries\")  # <-- Replace with your task"
      ],
      "metadata": {
        "colab": {
          "base_uri": "https://localhost:8080/"
        },
        "id": "a08sENCeXSkF",
        "outputId": "2c64e3e0-ed6f-43b8-db69-2579b341164d"
      },
      "execution_count": 3,
      "outputs": [
        {
          "output_type": "stream",
          "name": "stdout",
          "text": [
            "✅ Added: Buy groceries\n"
          ]
        }
      ]
    },
    {
      "cell_type": "code",
      "source": [
        "view_tasks()"
      ],
      "metadata": {
        "colab": {
          "base_uri": "https://localhost:8080/"
        },
        "id": "pub_TO8lXVb7",
        "outputId": "88537d3d-d90d-4964-e65f-9a36a50a5ccd"
      },
      "execution_count": 4,
      "outputs": [
        {
          "output_type": "stream",
          "name": "stdout",
          "text": [
            "Your Tasks:\n",
            "1. [❌] Buy groceries\n"
          ]
        }
      ]
    },
    {
      "cell_type": "code",
      "source": [
        "add_task(\"Study for exam\")"
      ],
      "metadata": {
        "colab": {
          "base_uri": "https://localhost:8080/"
        },
        "id": "qquqHjY4Xf98",
        "outputId": "a5e8fa16-a79d-4c28-bc7f-9c60634a4344"
      },
      "execution_count": 5,
      "outputs": [
        {
          "output_type": "stream",
          "name": "stdout",
          "text": [
            "✅ Added: Study for exam\n"
          ]
        }
      ]
    },
    {
      "cell_type": "code",
      "source": [
        "view_tasks()"
      ],
      "metadata": {
        "colab": {
          "base_uri": "https://localhost:8080/"
        },
        "id": "98DlidlrXihi",
        "outputId": "31014c7d-aa3e-4119-fb8a-e5b9cc489641"
      },
      "execution_count": 6,
      "outputs": [
        {
          "output_type": "stream",
          "name": "stdout",
          "text": [
            "Your Tasks:\n",
            "1. [❌] Buy groceries\n",
            "2. [❌] Study for exam\n"
          ]
        }
      ]
    },
    {
      "cell_type": "code",
      "source": [],
      "metadata": {
        "id": "e26NeKX1Xl-p"
      },
      "execution_count": null,
      "outputs": []
    },
    {
      "cell_type": "code",
      "source": [
        "mark_done(1)  # Replace 1 with task number\n",
        "mark_done(2)  # Replace 1 with task number"
      ],
      "metadata": {
        "colab": {
          "base_uri": "https://localhost:8080/"
        },
        "id": "ynvDB6PFXnxY",
        "outputId": "fb855a9c-3a61-4532-9abd-448996564904"
      },
      "execution_count": 7,
      "outputs": [
        {
          "output_type": "stream",
          "name": "stdout",
          "text": [
            "✔️ Marked as done: Buy groceries\n",
            "✔️ Marked as done: Study for exam\n"
          ]
        }
      ]
    },
    {
      "cell_type": "code",
      "source": [
        "view_tasks()"
      ],
      "metadata": {
        "colab": {
          "base_uri": "https://localhost:8080/"
        },
        "id": "pVI3Bz9HXsxz",
        "outputId": "86c807f2-494b-4483-fbac-f7ecadb8bd5f"
      },
      "execution_count": 8,
      "outputs": [
        {
          "output_type": "stream",
          "name": "stdout",
          "text": [
            "Your Tasks:\n",
            "1. [✅] Buy groceries\n",
            "2. [✅] Study for exam\n"
          ]
        }
      ]
    },
    {
      "cell_type": "code",
      "source": [
        "delete_task(1)  # Replace 1 with task number"
      ],
      "metadata": {
        "colab": {
          "base_uri": "https://localhost:8080/"
        },
        "id": "H0I4veTGX2ev",
        "outputId": "1d6a6dae-17dc-4b66-be8a-9073ac384b43"
      },
      "execution_count": 9,
      "outputs": [
        {
          "output_type": "stream",
          "name": "stdout",
          "text": [
            "🗑️ Deleted: Buy groceries\n"
          ]
        }
      ]
    },
    {
      "cell_type": "code",
      "source": [
        "view_tasks()"
      ],
      "metadata": {
        "colab": {
          "base_uri": "https://localhost:8080/"
        },
        "id": "0s402GbgX51A",
        "outputId": "df26aa7d-2160-4806-f884-c207b14df4ec"
      },
      "execution_count": 10,
      "outputs": [
        {
          "output_type": "stream",
          "name": "stdout",
          "text": [
            "Your Tasks:\n",
            "1. [✅] Study for exam\n"
          ]
        }
      ]
    },
    {
      "cell_type": "code",
      "source": [
        "show_menu()"
      ],
      "metadata": {
        "colab": {
          "base_uri": "https://localhost:8080/"
        },
        "id": "ztaHK6w_X9vI",
        "outputId": "141d2168-fd34-4052-8462-d3f06722bbc8"
      },
      "execution_count": 11,
      "outputs": [
        {
          "output_type": "stream",
          "name": "stdout",
          "text": [
            "\n",
            "📋 To-Do List Menu:\n",
            "1. View Tasks\n",
            "2. Add Task\n",
            "3. Mark Task as Completed\n",
            "4. Delete Task\n",
            "5. Exit\n"
          ]
        }
      ]
    }
  ]
}