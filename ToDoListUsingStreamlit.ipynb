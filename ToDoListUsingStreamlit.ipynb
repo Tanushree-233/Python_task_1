{
  "nbformat": 4,
  "nbformat_minor": 0,
  "metadata": {
    "colab": {
      "provenance": [],
      "authorship_tag": "ABX9TyO1djoru2IXM7+QMC2/Njx+",
      "include_colab_link": true
    },
    "kernelspec": {
      "name": "python3",
      "display_name": "Python 3"
    },
    "language_info": {
      "name": "python"
    }
  },
  "cells": [
    {
      "cell_type": "markdown",
      "metadata": {
        "id": "view-in-github",
        "colab_type": "text"
      },
      "source": [
        "<a href=\"https://colab.research.google.com/github/Tanushree-233/Python_task_1/blob/main/ToDoListUsingStreamlit.ipynb\" target=\"_parent\"><img src=\"https://colab.research.google.com/assets/colab-badge.svg\" alt=\"Open In Colab\"/></a>"
      ]
    },
    {
      "cell_type": "code",
      "execution_count": 12,
      "metadata": {
        "colab": {
          "base_uri": "https://localhost:8080/"
        },
        "id": "OvOXP2RQWnQK",
        "outputId": "f193c754-2a2e-4e26-e588-6934be135fbc"
      },
      "outputs": [
        {
          "output_type": "stream",
          "name": "stdout",
          "text": [
            "\u001b[2K     \u001b[90m━━━━━━━━━━━━━━━━━━━━━━━━━━━━━━━━━━━━━━━━\u001b[0m \u001b[32m44.3/44.3 kB\u001b[0m \u001b[31m2.0 MB/s\u001b[0m eta \u001b[36m0:00:00\u001b[0m\n",
            "\u001b[2K   \u001b[90m━━━━━━━━━━━━━━━━━━━━━━━━━━━━━━━━━━━━━━━━\u001b[0m \u001b[32m9.9/9.9 MB\u001b[0m \u001b[31m59.3 MB/s\u001b[0m eta \u001b[36m0:00:00\u001b[0m\n",
            "\u001b[2K   \u001b[90m━━━━━━━━━━━━━━━━━━━━━━━━━━━━━━━━━━━━━━━━\u001b[0m \u001b[32m6.9/6.9 MB\u001b[0m \u001b[31m68.4 MB/s\u001b[0m eta \u001b[36m0:00:00\u001b[0m\n",
            "\u001b[2K   \u001b[90m━━━━━━━━━━━━━━━━━━━━━━━━━━━━━━━━━━━━━━━━\u001b[0m \u001b[32m79.1/79.1 kB\u001b[0m \u001b[31m6.3 MB/s\u001b[0m eta \u001b[36m0:00:00\u001b[0m\n",
            "\u001b[?25h"
          ]
        }
      ],
      "source": [
        "# ✅ Install dependencies\n",
        "!pip install streamlit pyngrok -q\n",
        "\n",
        "# ✅ Save the To-Do app code\n",
        "with open(\"todo_app.py\", \"w\") as f:\n",
        "    f.write('''\n",
        "import streamlit as st\n",
        "\n",
        "st.set_page_config(page_title=\"To-Do List\", layout=\"centered\")\n",
        "st.title(\"📝 To-Do List App\")\n",
        "\n",
        "# Initialize task list in session state\n",
        "if \"tasks\" not in st.session_state:\n",
        "    st.session_state.tasks = []\n",
        "\n",
        "# Menu\n",
        "st.sidebar.title(\"📌 Menu\")\n",
        "menu = st.sidebar.radio(\"Choose an option:\", [\"View Tasks\", \"Add Task\", \"Mark Task as Done\", \"Delete Task\"])\n",
        "\n",
        "# View Tasks\n",
        "if menu == \"View Tasks\":\n",
        "    st.subheader(\"📄 All Tasks\")\n",
        "    if not st.session_state.tasks:\n",
        "        st.info(\"No tasks added yet.\")\n",
        "    else:\n",
        "        for i, t in enumerate(st.session_state.tasks):\n",
        "            status = \"✅\" if t[\"done\"] else \"❌\"\n",
        "            st.write(f\"{i+1}. [{status}] {t['task']}\")\n",
        "\n",
        "# Add Task\n",
        "elif menu == \"Add Task\":\n",
        "    st.subheader(\"➕ Add a New Task\")\n",
        "    new_task = st.text_input(\"Task Title\")\n",
        "    if st.button(\"Add\"):\n",
        "        if new_task.strip():\n",
        "            st.session_state.tasks.append({\"task\": new_task.strip(), \"done\": False})\n",
        "            st.success(\"Task added!\")\n",
        "        else:\n",
        "            st.warning(\"Please enter a valid task.\")\n",
        "\n",
        "# Mark Task as Done\n",
        "elif menu == \"Mark Task as Done\":\n",
        "    st.subheader(\"✅ Mark Task as Completed\")\n",
        "    if not st.session_state.tasks:\n",
        "        st.info(\"No tasks available.\")\n",
        "    else:\n",
        "        task_done = st.selectbox(\"Select task to mark as done:\", [t[\"task\"] for t in st.session_state.tasks if not t[\"done\"]])\n",
        "        if st.button(\"Mark Done\"):\n",
        "            for t in st.session_state.tasks:\n",
        "                if t[\"task\"] == task_done:\n",
        "                    t[\"done\"] = True\n",
        "                    st.success(f\"Marked '{task_done}' as done.\")\n",
        "                    break\n",
        "\n",
        "# Delete Task\n",
        "elif menu == \"Delete Task\":\n",
        "    st.subheader(\"🗑️ Delete a Task\")\n",
        "    if not st.session_state.tasks:\n",
        "        st.info(\"No tasks to delete.\")\n",
        "    else:\n",
        "        task_to_delete = st.selectbox(\"Select task to delete:\", [t[\"task\"] for t in st.session_state.tasks])\n",
        "        if st.button(\"Delete\"):\n",
        "            st.session_state.tasks = [t for t in st.session_state.tasks if t[\"task\"] != task_to_delete]\n",
        "            st.success(f\"Deleted '{task_to_delete}' successfully.\")\n",
        "''')"
      ]
    },
    {
      "cell_type": "code",
      "source": [
        "from pyngrok import ngrok\n",
        "import time\n",
        "\n",
        "# Kill previous tunnels if any\n",
        "ngrok.kill()\n",
        "\n",
        "# Configure ngrok with your authtoken (replace \"YOUR_AUTHTOKEN\" with your actual token)\n",
        "ngrok.set_auth_token(\"2zUVIUzz1bkq8dT3JvN3s4litoR_6pvfmSTo77GuBCvcK7mTY\")\n",
        "\n",
        "# Create tunnel\n",
        "public_url = ngrok.connect(8501)\n",
        "print(\"🔗 Click this link to open your To-Do App:\")\n",
        "print(public_url)\n",
        "\n",
        "# Start Streamlit app\n",
        "!streamlit run todo_app.py &>/dev/null &\n",
        "time.sleep(5)"
      ],
      "metadata": {
        "colab": {
          "base_uri": "https://localhost:8080/"
        },
        "id": "ztaHK6w_X9vI",
        "outputId": "d4e75207-ab21-4ebc-c30f-d6f637d4a69a"
      },
      "execution_count": 14,
      "outputs": [
        {
          "output_type": "stream",
          "name": "stdout",
          "text": [
            "🔗 Click this link to open your To-Do App:\n",
            "NgrokTunnel: \"https://3de45af190c6.ngrok-free.app\" -> \"http://localhost:8501\"\n"
          ]
        }
      ]
    }
  ]
}